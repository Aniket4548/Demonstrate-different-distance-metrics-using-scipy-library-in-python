{
 "cells": [
  {
   "cell_type": "markdown",
   "id": "42a85c8e",
   "metadata": {},
   "source": [
    "# Practical 19"
   ]
  },
  {
   "cell_type": "markdown",
   "id": "e8a1e375",
   "metadata": {},
   "source": [
    "# Demonstrate different distance metrics using scipy library in python"
   ]
  },
  {
   "cell_type": "code",
   "execution_count": 1,
   "id": "4f32a381",
   "metadata": {},
   "outputs": [],
   "source": [
    "from scipy.spatial import distance"
   ]
  },
  {
   "cell_type": "code",
   "execution_count": 2,
   "id": "5353d8b3",
   "metadata": {},
   "outputs": [
    {
     "data": {
      "text/plain": [
       "((1, 2, 3), (4, 5, 6))"
      ]
     },
     "execution_count": 2,
     "metadata": {},
     "output_type": "execute_result"
    }
   ],
   "source": [
    "point_1 = (1,2,3)\n",
    "point_2 = (4,5,6)\n",
    "point_1, point_2"
   ]
  },
  {
   "cell_type": "code",
   "execution_count": 3,
   "id": "408b0ee9",
   "metadata": {},
   "outputs": [
    {
     "name": "stdout",
     "output_type": "stream",
     "text": [
      "Euclidean Distance between (1, 2, 3) and (4, 5, 6) is 5.196152422706632\n"
     ]
    }
   ],
   "source": [
    "euclidean_distance = distance.euclidean(point_1, point_2)\n",
    "print( \"Euclidean Distance between\" ,point_1,\"and\", point_2, \"is\",euclidean_distance)"
   ]
  },
  {
   "cell_type": "code",
   "execution_count": 4,
   "id": "28b60fe1",
   "metadata": {},
   "outputs": [
    {
     "name": "stdout",
     "output_type": "stream",
     "text": [
      "Manhattan Distance between (1, 2, 3) and (4, 5, 6) is 9\n"
     ]
    }
   ],
   "source": [
    "manhattan_distance = distance.cityblock(point_1, point_2)\n",
    "print(\"Manhattan Distance between\", point_1,\"and\", point_2, \"is\",manhattan_distance)"
   ]
  },
  {
   "cell_type": "code",
   "execution_count": 5,
   "id": "d2c7df26",
   "metadata": {},
   "outputs": [
    {
     "name": "stdout",
     "output_type": "stream",
     "text": [
      "Minkowski Distance between (1, 2, 3) and (4, 5, 6) is 4.3267487109222245\n"
     ]
    }
   ],
   "source": [
    "minkowski_distance = distance.minkowski(point_1, point_2, p = 3)\n",
    "print(\"Minkowski Distance between\", point_1,\"and\", point_2, \"is\", minkowski_distance)"
   ]
  },
  {
   "cell_type": "code",
   "execution_count": 6,
   "id": "5aafa414",
   "metadata": {},
   "outputs": [
    {
     "name": "stdout",
     "output_type": "stream",
     "text": [
      "Minkowski Distance between (1, 2, 3) and (4, 5, 6) is 9.0\n"
     ]
    }
   ],
   "source": [
    "minkowski_distance_order1 = distance.minkowski(point_1, point_2, p = 1)  #Manhattan Distance\n",
    "print(\"Minkowski Distance between\", point_1,\"and\", point_2, \"is\", minkowski_distance_order1)"
   ]
  },
  {
   "cell_type": "code",
   "execution_count": 7,
   "id": "cdc6cdb3",
   "metadata": {},
   "outputs": [
    {
     "name": "stdout",
     "output_type": "stream",
     "text": [
      "Minkowski Distance between (1, 2, 3) and (4, 5, 6) is 5.196152422706632\n"
     ]
    }
   ],
   "source": [
    "minkowski_distance_order2 = distance.minkowski(point_1, point_2, p = 2)  #Euclidean Distance\n",
    "print(\"Minkowski Distance between\", point_1,\"and\", point_2, \"is\", minkowski_distance_order2 )"
   ]
  },
  {
   "cell_type": "code",
   "execution_count": 8,
   "id": "f870e03d",
   "metadata": {},
   "outputs": [
    {
     "name": "stdout",
     "output_type": "stream",
     "text": [
      "Chebyshev Distance between (1, 2, 3) and (4, 5, 6) is 3\n"
     ]
    }
   ],
   "source": [
    "chebyshev_distance = distance.chebyshev(point_1, point_2)\n",
    "print(\"Chebyshev Distance between\", point_1,\"and\", point_2, \"is\", chebyshev_distance)"
   ]
  },
  {
   "cell_type": "code",
   "execution_count": 9,
   "id": "710df1db",
   "metadata": {},
   "outputs": [
    {
     "name": "stdout",
     "output_type": "stream",
     "text": [
      "7.0\n"
     ]
    }
   ],
   "source": [
    "s1 = 'euclidean'\n",
    "s2 = 'manhattan'\n",
    "hammin_distance = distance.hamming(list(s1), list(s2))*len(s1)\n",
    "print(hammin_distance)"
   ]
  },
  {
   "cell_type": "code",
   "execution_count": 10,
   "id": "40d0537e",
   "metadata": {},
   "outputs": [
    {
     "ename": "ValueError",
     "evalue": "The 1d arrays must have equal lengths.",
     "output_type": "error",
     "traceback": [
      "\u001b[1;31m---------------------------------------------------------------------------\u001b[0m",
      "\u001b[1;31mValueError\u001b[0m                                Traceback (most recent call last)",
      "Cell \u001b[1;32mIn [10], line 3\u001b[0m\n\u001b[0;32m      1\u001b[0m s1 \u001b[38;5;241m=\u001b[39m \u001b[38;5;124m'\u001b[39m\u001b[38;5;124mdata\u001b[39m\u001b[38;5;124m'\u001b[39m\n\u001b[0;32m      2\u001b[0m s2 \u001b[38;5;241m=\u001b[39m \u001b[38;5;124m'\u001b[39m\u001b[38;5;124mscience\u001b[39m\u001b[38;5;124m'\u001b[39m\n\u001b[1;32m----> 3\u001b[0m hammin_distance \u001b[38;5;241m=\u001b[39m \u001b[43mdistance\u001b[49m\u001b[38;5;241;43m.\u001b[39;49m\u001b[43mhamming\u001b[49m\u001b[43m(\u001b[49m\u001b[38;5;28;43mlist\u001b[39;49m\u001b[43m(\u001b[49m\u001b[43ms1\u001b[49m\u001b[43m)\u001b[49m\u001b[43m,\u001b[49m\u001b[43m \u001b[49m\u001b[38;5;28;43mlist\u001b[39;49m\u001b[43m(\u001b[49m\u001b[43ms2\u001b[49m\u001b[43m)\u001b[49m\u001b[43m)\u001b[49m\u001b[38;5;241m*\u001b[39m\u001b[38;5;28mlen\u001b[39m(s1)\n\u001b[0;32m      4\u001b[0m \u001b[38;5;28mprint\u001b[39m(hammin_distance)\n",
      "File \u001b[1;32m~\\anaconda3\\lib\\site-packages\\scipy\\spatial\\distance.py:718\u001b[0m, in \u001b[0;36mhamming\u001b[1;34m(u, v, w)\u001b[0m\n\u001b[0;32m    716\u001b[0m v \u001b[38;5;241m=\u001b[39m _validate_vector(v)\n\u001b[0;32m    717\u001b[0m \u001b[38;5;28;01mif\u001b[39;00m u\u001b[38;5;241m.\u001b[39mshape \u001b[38;5;241m!=\u001b[39m v\u001b[38;5;241m.\u001b[39mshape:\n\u001b[1;32m--> 718\u001b[0m     \u001b[38;5;28;01mraise\u001b[39;00m \u001b[38;5;167;01mValueError\u001b[39;00m(\u001b[38;5;124m'\u001b[39m\u001b[38;5;124mThe 1d arrays must have equal lengths.\u001b[39m\u001b[38;5;124m'\u001b[39m)\n\u001b[0;32m    719\u001b[0m u_ne_v \u001b[38;5;241m=\u001b[39m u \u001b[38;5;241m!=\u001b[39m v\n\u001b[0;32m    720\u001b[0m \u001b[38;5;28;01mif\u001b[39;00m w \u001b[38;5;129;01mis\u001b[39;00m \u001b[38;5;129;01mnot\u001b[39;00m \u001b[38;5;28;01mNone\u001b[39;00m:\n",
      "\u001b[1;31mValueError\u001b[0m: The 1d arrays must have equal lengths."
     ]
    }
   ],
   "source": [
    "s1 = 'data'\n",
    "s2 = 'science'\n",
    "hammin_distance = distance.hamming(list(s1), list(s2))*len(s1)\n",
    "print(hammin_distance)"
   ]
  }
 ],
 "metadata": {
  "kernelspec": {
   "display_name": "Python 3 (ipykernel)",
   "language": "python",
   "name": "python3"
  },
  "language_info": {
   "codemirror_mode": {
    "name": "ipython",
    "version": 3
   },
   "file_extension": ".py",
   "mimetype": "text/x-python",
   "name": "python",
   "nbconvert_exporter": "python",
   "pygments_lexer": "ipython3",
   "version": "3.9.13"
  }
 },
 "nbformat": 4,
 "nbformat_minor": 5
}
